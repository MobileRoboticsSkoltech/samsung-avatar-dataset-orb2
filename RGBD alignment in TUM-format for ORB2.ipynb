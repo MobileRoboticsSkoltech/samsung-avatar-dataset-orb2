{
 "cells": [
  {
   "cell_type": "code",
   "execution_count": 14,
   "metadata": {},
   "outputs": [],
   "source": [
    "import copy\n",
    "import cv2 as cv\n",
    "import imageio\n",
    "from multiprocessing import Pool\n",
    "import numpy as np\n",
    "import os\n",
    "import open3d as o3d\n",
    "import pickle\n",
    "import scipy\n",
    "import shutil\n",
    "from tqdm import tqdm"
   ]
  },
  {
   "cell_type": "code",
   "execution_count": 35,
   "metadata": {},
   "outputs": [],
   "source": [
    "# Scaling coefficient for depth, the same as in TUM\n",
    "DEPTH_SCALE_FACTOR = 5000\n",
    "SETUP_CONFIG = 'bandeja_standard.pickle'\n",
    "\n",
    "# Folder where the data in TUM format will be put\n",
    "final_folder = '2021-03-01-15-37-25'\n",
    "\n",
    "azure_depth_folder = '../bag-extractor/2021-03-01-15-37-25/_azure_depth_image_raw/'\n",
    "smartphone_folder = '../bag-extractor/2021-03-01-15-37-25/smartphone_video_frames/'"
   ]
  },
  {
   "cell_type": "code",
   "execution_count": 36,
   "metadata": {},
   "outputs": [
    {
     "name": "stdout",
     "output_type": "stream",
     "text": [
      "Depth timestamps from 78109803766 to 106309770766 (cnt 142)\n",
      "RGB timestamps from 74982637670 to 107411736993 (cnt 973)\n"
     ]
    }
   ],
   "source": [
    "depth_ts = np.array([int(file.split('.')[0]) for file in os.listdir(azure_depth_folder) \n",
    "                     if file.endswith('.npy')])\n",
    "depth_ts.sort()\n",
    "\n",
    "rgb_ts = np.array([int(file.split('.')[0]) for file in sorted(os.listdir(smartphone_folder)) \n",
    "                   if file.endswith('.png')])\n",
    "rgb_ts.sort()\n",
    "\n",
    "print('Depth timestamps from {1} to {2} (cnt {0})'.format(len(depth_ts), depth_ts[0], depth_ts[-1]))\n",
    "print('RGB timestamps from {1} to {2} (cnt {0})'.format(len(rgb_ts), rgb_ts[0], rgb_ts[-1]))\n",
    "\n",
    "# Build correspondences between depth and rgb by nearest neighbour algorithm\n",
    "rgbd_pairs = []\n",
    "for depth_t in depth_ts:\n",
    "    closest_rgb_t = min(rgb_ts, key=lambda x: abs(depth_t - x))\n",
    "    rgbd_pairs.append((closest_rgb_t, depth_t))\n",
    "    \n",
    "# Prepare folder infrastructure\n",
    "if os.path.exists(final_folder):\n",
    "    shutil.rmtree(final_folder)\n",
    "os.mkdir(final_folder)\n",
    "os.mkdir(os.path.join(final_folder, 'depth'))\n",
    "os.mkdir(os.path.join(final_folder, 'rgb'))"
   ]
  },
  {
   "cell_type": "code",
   "execution_count": 37,
   "metadata": {},
   "outputs": [],
   "source": [
    "def process_pair(rgbd_pair):\n",
    "    rgb_image = cv.imread(os.path.join(smartphone_folder, str(rgbd_pair[0]) + '.png'))\n",
    "    depth_array = np.load(os.path.join(azure_depth_folder, str(rgbd_pair[1]) + '.npy'))\n",
    "    \n",
    "    rgb_image_aligned, depth_array_aligned = align_rgb_depth(rgb_image, depth_array, (0, 0, 1920, 1080))\n",
    "    \n",
    "    # Save rgb as 8-bit png\n",
    "    cv.imwrite(os.path.join(final_folder, 'rgb', str(rgbd_pair[0] / 1e9) + '.png'), rgb_image_aligned)\n",
    "    \n",
    "    # Save depth as 16-bit unsigned int with scale factor\n",
    "    depth_array_aligned = (depth_array_aligned * DEPTH_SCALE_FACTOR).astype(np.uint16)\n",
    "    imageio.imwrite(os.path.join(final_folder, 'depth', str(rgbd_pair[1] / 1e9) + '.png'), depth_array_aligned)\n",
    "\n",
    "# Copy pairs of rgb and depth to final dir\n",
    "with Pool() as pool: \n",
    "    pool.map(process_pair, rgbd_pairs)\n",
    "\n",
    "# Produce file with associations between rgb and depth files\n",
    "with open(os.path.join(final_folder, 'association.txt'), 'w') as association_file:\n",
    "    for rgbd_pair in rgbd_pairs:\n",
    "        association_file.write('{0} {1} {2} {3}\\n'\n",
    "                               .format(rgbd_pair[0] / 1e9, os.path.join('rgb', str(rgbd_pair[0] / 1e9) + '.png'),\n",
    "                                       rgbd_pair[1] / 1e9, os.path.join('depth', str(rgbd_pair[1] / 1e9) + '.png')))"
   ]
  }
 ],
 "metadata": {
  "kernelspec": {
   "display_name": "Python 3",
   "language": "python",
   "name": "python3"
  },
  "language_info": {
   "codemirror_mode": {
    "name": "ipython",
    "version": 3
   },
   "file_extension": ".py",
   "mimetype": "text/x-python",
   "name": "python",
   "nbconvert_exporter": "python",
   "pygments_lexer": "ipython3",
   "version": "3.6.12"
  }
 },
 "nbformat": 4,
 "nbformat_minor": 4
}
