{
 "cells": [
  {
   "cell_type": "code",
   "execution_count": 1,
   "metadata": {},
   "outputs": [],
   "source": [
    "import copy\n",
    "import cv2 as cv\n",
    "import imageio\n",
    "import numpy as np\n",
    "import os\n",
    "import open3d as o3d\n",
    "import pickle\n",
    "import scipy\n",
    "import shutil\n",
    "from tqdm import tqdm"
   ]
  },
  {
   "cell_type": "code",
   "execution_count": 2,
   "metadata": {},
   "outputs": [],
   "source": [
    "# Scaling coefficient for depth, the same as in TUM\n",
    "DEPTH_SCALE_FACTOR = 5000\n",
    "SETUP_CONFIG = 'bandeja_config.pickle'\n",
    "\n",
    "# Folder where the data in TUM format will be put\n",
    "final_folder = '2021-02-24-14-58-36-orb'\n",
    "\n",
    "azure_depth_folder = '../bag-extractor/2021-02-24-14-58-36/_azure_depth_image_raw/'\n",
    "smartphone_folder = '../bag-extractor/2021-02-24-14-58-36/smartphone_video_frames/'"
   ]
  },
  {
   "cell_type": "code",
   "execution_count": 3,
   "metadata": {},
   "outputs": [
    {
     "name": "stdout",
     "output_type": "stream",
     "text": [
      "Depth timestamps from 480286388172 to 585679066172 (cnt 528)\n",
      "RGB timestamps from 481052973729 to 511042604476 (cnt 901)\n"
     ]
    }
   ],
   "source": [
    "depth_ts = np.array([int(file.split('.')[0]) for file in sorted(os.listdir(azure_depth_folder)) \n",
    "                     if file.endswith('.npy')])\n",
    "\n",
    "rgb_ts = np.array([int(file.split('.')[0]) for file in sorted(os.listdir(smartphone_folder)) \n",
    "                   if file.endswith('.png')])\n",
    "\n",
    "print('Depth timestamps from {1} to {2} (cnt {0})'.format(len(depth_ts), depth_ts[0], depth_ts[-1]))\n",
    "print('RGB timestamps from {1} to {2} (cnt {0})'.format(len(rgb_ts), rgb_ts[0], rgb_ts[-1]))\n",
    "\n",
    "# Build correspondences between depth and rgb by nearest neighbour algorithm\n",
    "rgbd_pairs = []\n",
    "for depth_t in depth_ts:\n",
    "    closest_rgb_t = min(rgb_ts, key=lambda x: abs(depth_t - x))\n",
    "    rgbd_pairs.append((closest_rgb_t, depth_t))\n",
    "    \n",
    "# Prepare folder infrastructure\n",
    "if os.path.exists(final_folder):\n",
    "    shutil.rmtree(final_folder)\n",
    "os.mkdir(final_folder)\n",
    "os.mkdir(os.path.join(final_folder, 'depth'))\n",
    "os.mkdir(os.path.join(final_folder, 'rgb'))"
   ]
  },
  {
   "cell_type": "code",
   "execution_count": 4,
   "metadata": {},
   "outputs": [],
   "source": [
    "# Point cloud from depth (by Konstantin)\n",
    "def pointcloudify_depth(depth, intrinsics, dist_coeff, undistort=True):\n",
    "    shape = depth.shape[::-1]\n",
    "    \n",
    "    if undistort:\n",
    "        undist_intrinsics, _ = cv.getOptimalNewCameraMatrix(intrinsics, dist_coeff, shape, 1, shape)\n",
    "        inv_undist_intrinsics = np.linalg.inv(undist_intrinsics)\n",
    "\n",
    "    else:\n",
    "        inv_undist_intrinsics = np.linalg.inv(intrinsics)\n",
    "\n",
    "    if undistort:\n",
    "        # undist_depthi = cv.undistort(depthi, intrinsics, dist_coeff, None, undist_intrinsics)\n",
    "        map_x, map_y = cv.initUndistortRectifyMap(intrinsics, dist_coeff, None\n",
    "                                                  , undist_intrinsics, shape, cv.CV_32FC1)\n",
    "        undist_depth = cv.remap(depth, map_x, map_y, cv.INTER_NEAREST)\n",
    "\n",
    "    # Generate x,y grid for H x W image\n",
    "    grid_x, grid_y = np.meshgrid(np.arange(shape[0]), np.arange(shape[1]))\n",
    "    grid = np.concatenate([np.expand_dims(grid_x, -1),\n",
    "                           np.expand_dims(grid_y, -1)], axis=-1)\n",
    "\n",
    "    grid = np.concatenate([grid, np.ones((shape[1], shape[0], 1))], axis=-1)\n",
    "\n",
    "    # To normalized image coordinates\n",
    "    local_grid = inv_undist_intrinsics @ grid.reshape(-1, 3).transpose()  # 3 x H * W\n",
    "\n",
    "    # Raise by undistorted depth value from image plane to local camera space\n",
    "    if undistort:\n",
    "        local_grid = local_grid.transpose() * np.expand_dims(undist_depth.reshape(-1), axis=-1)\n",
    "\n",
    "    else:\n",
    "        local_grid = local_grid.transpose() * np.expand_dims(depth.reshape(-1), axis=-1)\n",
    "        \n",
    "    return local_grid.astype(np.float32)\n",
    "\n",
    "\n",
    "def project_pcd_to_depth(pcd, undist_intrinsics, img_size): \n",
    "    I = np.zeros(img_size, np.float32)\n",
    "    h, w = img_size\n",
    "    for P in pcd.points:\n",
    "        d = np.linalg.norm(P)\n",
    "        P = P / P[2]\n",
    "        p = undist_intrinsics @ P\n",
    "        x, y = int(np.round(p[0])), int(np.round(p[1]))\n",
    "        if x >= 0 and x < w and y >= 0 and y < h:\n",
    "            I[y, x] = d\n",
    "            \n",
    "    return I\n",
    "\n",
    "\n",
    "def smooth_depth(depth):\n",
    "    MAX_DEPTH_VAL = 1e5\n",
    "    KERNEL_SIZE = 11\n",
    "    depth[depth == 0] = MAX_DEPTH_VAL\n",
    "    smoothed_depth = scipy.ndimage.minimum_filter(depth, KERNEL_SIZE)\n",
    "    smoothed_depth[smoothed_depth == MAX_DEPTH_VAL] = 0\n",
    "    return smoothed_depth\n",
    "\n",
    "\n",
    "def align_rgb_depth(rgb, depth, roi, config_file=SETUP_CONFIG):\n",
    "    with open(config_file, 'rb') as config:\n",
    "        config_dict = pickle.load(config)\n",
    "\n",
    "    # Undistort rgb image\n",
    "    undist_rgb = cv.undistort(rgb, config_dict['rgb']['dist_mtx'], config_dict['rgb']['dist_coef'],\n",
    "                              None, config_dict['rgb']['undist_mtx'])\n",
    "    \n",
    "    # Create point cloud from depth\n",
    "    pcd = o3d.geometry.PointCloud()\n",
    "    pcd.points = o3d.utility.Vector3dVector(pointcloudify_depth(depth, config_dict['depth']['dist_mtx'],\n",
    "                                                                config_dict['depth']['dist_coef']))\n",
    "\n",
    "    # Align point cloud with depth reference frame\n",
    "    pcd.transform(config_dict['T'])\n",
    "    \n",
    "    # Project aligned point cloud to rgb\n",
    "    aligned_depth = project_pcd_to_depth(pcd, config_dict['rgb']['undist_mtx'], rgb.shape[:2])\n",
    "    \n",
    "    smoothed_aligned_depth = smooth_depth(aligned_depth)\n",
    "    x, y, w, h = roi\n",
    "\n",
    "    depth_res = smoothed_aligned_depth[y:y+h, x:x+w]\n",
    "    rgb_res = undist_rgb[y:y+h, x:x+w]\n",
    "    return rgb_res, depth_res"
   ]
  },
  {
   "cell_type": "code",
   "execution_count": null,
   "metadata": {},
   "outputs": [
    {
     "name": "stderr",
     "output_type": "stream",
     "text": [
      "\r",
      "  0%|          | 0/200 [00:00<?, ?it/s]"
     ]
    }
   ],
   "source": [
    "# Copy pairs of rgb and depth to final dir\n",
    "N = 200\n",
    "for rgbd_pair in tqdm(rgbd_pairs[:N]):\n",
    "    rgb_image = cv.imread(os.path.join(smartphone_folder, str(rgbd_pair[0]) + '.png'))\n",
    "    depth_array = np.load(os.path.join(azure_depth_folder, str(rgbd_pair[1]) + '.npy'))\n",
    "    \n",
    "    rgb_image_aligned, depth_array_aligned = align_rgb_depth(rgb_image, depth_array, (0, 0, 1920, 1080))\n",
    "    \n",
    "    # Save rgb as 8-bit png\n",
    "    cv.imwrite(os.path.join(final_folder, 'rgb', str(rgbd_pair[0] / 1e9) + '.png'), rgb_image_aligned)\n",
    "    \n",
    "    # Save depth as 16-bit unsigned int with scale factor\n",
    "    depth_array_aligned = (depth_array_aligned * DEPTH_SCALE_FACTOR).astype(np.uint16)\n",
    "    imageio.imwrite(os.path.join(final_folder, 'depth', str(rgbd_pair[1] / 1e9) + '.png'), depth_array_aligned)\n",
    "\n",
    "# Produce file with associations between rgb and depth files\n",
    "with open(os.path.join(final_folder, 'association.txt'), 'w') as association_file:\n",
    "    for rgbd_pair in rgbd_pairs[:N]:\n",
    "        association_file.write('{0} {1} {2} {3}\\n'\n",
    "                               .format(rgbd_pair[0] / 1e9, os.path.join('rgb', str(rgbd_pair[0] / 1e9) + '.png'),\n",
    "                                       rgbd_pair[1] / 1e9, os.path.join('depth', str(rgbd_pair[1] / 1e9) + '.png')))"
   ]
  },
  {
   "cell_type": "code",
   "execution_count": null,
   "metadata": {},
   "outputs": [],
   "source": []
  }
 ],
 "metadata": {
  "kernelspec": {
   "display_name": "Python 3",
   "language": "python",
   "name": "python3"
  },
  "language_info": {
   "codemirror_mode": {
    "name": "ipython",
    "version": 3
   },
   "file_extension": ".py",
   "mimetype": "text/x-python",
   "name": "python",
   "nbconvert_exporter": "python",
   "pygments_lexer": "ipython3",
   "version": "3.6.12"
  }
 },
 "nbformat": 4,
 "nbformat_minor": 4
}
