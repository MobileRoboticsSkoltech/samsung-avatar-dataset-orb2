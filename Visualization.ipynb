{
 "cells": [
  {
   "cell_type": "code",
   "execution_count": 402,
   "metadata": {},
   "outputs": [],
   "source": [
    "import cv2 as cv\n",
    "import mrob\n",
    "import numpy as np\n",
    "import open3d as o3d\n",
    "import os\n",
    "import pickle"
   ]
  },
  {
   "cell_type": "code",
   "execution_count": 403,
   "metadata": {},
   "outputs": [],
   "source": [
    "def pointcloudify_depth(depth, intrinsics, dist_coeff, undistort=True):\n",
    "    shape = depth.shape[::-1]\n",
    "    \n",
    "    if undistort:\n",
    "        undist_intrinsics, _ = cv.getOptimalNewCameraMatrix(intrinsics, dist_coeff, shape, 1, shape)\n",
    "        inv_undist_intrinsics = np.linalg.inv(undist_intrinsics)\n",
    "\n",
    "    else:\n",
    "        inv_undist_intrinsics = np.linalg.inv(intrinsics)\n",
    "\n",
    "    if undistort:\n",
    "        # undist_depthi = cv.undistort(depthi, intrinsics, dist_coeff, None, undist_intrinsics)\n",
    "        map_x, map_y = cv.initUndistortRectifyMap(intrinsics, dist_coeff, None\n",
    "                                                  , undist_intrinsics, shape, cv.CV_32FC1)\n",
    "        undist_depth = cv.remap(depth, map_x, map_y, cv.INTER_NEAREST)\n",
    "\n",
    "    # Generate x,y grid for H x W image\n",
    "    grid_x, grid_y = np.meshgrid(np.arange(shape[0]), np.arange(shape[1]))\n",
    "    grid = np.concatenate([np.expand_dims(grid_x, -1),\n",
    "                           np.expand_dims(grid_y, -1)], axis=-1)\n",
    "\n",
    "    grid = np.concatenate([grid, np.ones((shape[1], shape[0], 1))], axis=-1)\n",
    "\n",
    "    # To normalized image coordinates\n",
    "    local_grid = inv_undist_intrinsics @ grid.reshape(-1, 3).transpose()  # 3 x H * W\n",
    "\n",
    "    # Raise by undistorted depth value from image plane to local camera space\n",
    "    if undistort:\n",
    "        local_grid = local_grid.transpose() * np.expand_dims(undist_depth.reshape(-1), axis=-1)\n",
    "\n",
    "    else:\n",
    "        local_grid = local_grid.transpose() * np.expand_dims(depth.reshape(-1), axis=-1)\n",
    "        \n",
    "    return local_grid.astype(np.float32)"
   ]
  },
  {
   "cell_type": "code",
   "execution_count": 560,
   "metadata": {},
   "outputs": [],
   "source": [
    "filepath = '2021-04-01-15-49-41-traj.txt'\n",
    "poses_quat = []\n",
    "with open(filepath, 'r') as file:\n",
    "    for line in file:\n",
    "        poses_quat.append([float(i) for i in line.split(' ')])"
   ]
  },
  {
   "cell_type": "code",
   "execution_count": 561,
   "metadata": {},
   "outputs": [
    {
     "data": {
      "text/plain": [
       "array([606624793570, 606824793570, 607024793570, 607224893570,\n",
       "       607424904570, 607624893570, 607824893570, 608024893570,\n",
       "       608224893570, 608424893570, 608624904570, 608824893570,\n",
       "       609024893570, 609224893570, 609424893570, 609624782570,\n",
       "       609824793570, 610024782570, 610224893570, 610424893570,\n",
       "       610624904570, 610824904570, 611024893570, 611224893570,\n",
       "       611424893570, 611624893570, 611824893570, 612024782570,\n",
       "       612224893570, 612424904570, 612624893570, 612824893570,\n",
       "       613024893570, 613224893570, 613424793570, 613624793570,\n",
       "       613824893570, 614024893570, 614224893570, 614424893570,\n",
       "       614624904570, 614824893570, 615024893570, 615224904570,\n",
       "       615424893570, 615624893570, 615824782570, 616024904570,\n",
       "       616224904570, 616424893570, 616624893570, 616824893570,\n",
       "       617024904570, 617224793570, 617424793570, 617624782570,\n",
       "       617824782570, 618024782570, 618224893570, 618424904570,\n",
       "       618624893570, 618824893570, 619024893570, 619224893570,\n",
       "       619424893570, 619624782570, 619824904570, 620024893570,\n",
       "       620224893570, 620424893570, 620624893570, 620824904570,\n",
       "       621024893570, 621224893570, 621424893570, 621624893570,\n",
       "       621824782570, 622024904570, 622224893570, 622424893570,\n",
       "       622624893570, 622824893570, 623024893570, 623224893570,\n",
       "       623424893570, 623624793570, 623824782570, 624024893570,\n",
       "       624224893570, 624424893570, 624624893570, 624824893570,\n",
       "       625024893570, 625224893570, 625424793570, 625624782570,\n",
       "       625824793570, 626024793570, 626224893570, 626424893570,\n",
       "       626624893570, 626824893570, 627024893570, 627224904570,\n",
       "       627424893570, 627624793570, 627824782570, 628024793570,\n",
       "       628224793570, 628424782570, 628624893570, 628824893570,\n",
       "       629024893570, 629224893570, 629424893570, 629624793570,\n",
       "       629824882570, 630024893570, 630224893570, 630424893570,\n",
       "       630624893570, 630824893570, 631024893570, 631224893570,\n",
       "       631424782570, 631624904570, 631824893570, 632024904570,\n",
       "       632224893570, 632424893570, 632624893570, 632824893570,\n",
       "       633024793570, 633224782570, 633424893570, 633624893570,\n",
       "       633824893570, 634024893570, 634224893570, 634424893570,\n",
       "       634624893570, 634824893570, 635024782570, 635224893570,\n",
       "       635424893570, 635624893570, 635824893570, 636024893570,\n",
       "       636224893570, 636424782570, 636624893570, 636824893570,\n",
       "       637024893570, 637224904570])"
      ]
     },
     "execution_count": 561,
     "metadata": {},
     "output_type": "execute_result"
    }
   ],
   "source": [
    "azure_depth_folder = '../2021-04-01-15-49-41/_azure_depth_image_raw/'\n",
    "\n",
    "depth_ts = np.array([int(file.split('.')[0]) for file in os.listdir(azure_depth_folder) \n",
    "                     if file.endswith('.npy')])\n",
    "depth_ts.sort()\n",
    "depth_ts"
   ]
  },
  {
   "cell_type": "code",
   "execution_count": 562,
   "metadata": {},
   "outputs": [],
   "source": [
    "SETUP_CONFIG = 'bandeja_standard.pickle'\n",
    "with open(SETUP_CONFIG, 'rb') as config:\n",
    "    config_dict = pickle.load(config)"
   ]
  },
  {
   "cell_type": "code",
   "execution_count": 563,
   "metadata": {},
   "outputs": [],
   "source": [
    "import numpy as np\n",
    "import colorsys\n",
    "\n",
    "def get_colors(num_colors):\n",
    "    colors=[]\n",
    "    for i in np.arange(0., 360., 360. / num_colors):\n",
    "        hue = i/360.\n",
    "        lightness = (50 + np.random.rand() * 10)/100.\n",
    "        saturation = (90 + np.random.rand() * 10)/100.\n",
    "        colors.append(colorsys.hls_to_rgb(hue, lightness, saturation))\n",
    "    return colors"
   ]
  },
  {
   "cell_type": "code",
   "execution_count": 564,
   "metadata": {},
   "outputs": [],
   "source": [
    "N = 20\n",
    "\n",
    "colors = get_colors(len(poses_quat) // N + 1)\n",
    "geometries = []\n",
    "Ts = []\n",
    "part = 120\n",
    "\n",
    "for i, pose in enumerate(poses_quat[:part]): \n",
    "    t = pose[1:4]\n",
    "    R = mrob.geometry.quat_to_so3(pose[4:8])\n",
    "    T = np.eye(4)\n",
    "    T[:3, :3] = R\n",
    "    T[:3, 3] = t\n",
    "    Ts.append(T)\n",
    "    if not i % N:\n",
    "        coord = o3d.geometry.TriangleMesh.create_coordinate_frame(0.1).transform(T)\n",
    "        c = i / (part + 1)\n",
    "        coord.paint_uniform_color([0.5,1 - c, (1 - c) / 2])\n",
    "        geometries.append(coord)\n",
    "\n",
    "\n",
    "T = np.load('azure2s10_standard_extrinsics.npy')\n",
    "full_pcd = None\n",
    "for i, ts in enumerate(depth_ts[:part]):\n",
    "    if not i % N:\n",
    "        depth = np.load(os.path.join(azure_depth_folder, str(ts) + '.npy'))\n",
    "        pcd = o3d.geometry.PointCloud()\n",
    "        pcd.points = o3d.utility.Vector3dVector(pointcloudify_depth(depth, config_dict['depth']['dist_mtx'],\n",
    "                                                config_dict['depth']['dist_coef']))\n",
    "        pc = pcd.transform(T).transform(Ts[i])\n",
    "#         pc.paint_uniform_color(colors[i // N])\n",
    "        c = i / (part + 1)\n",
    "        pc.paint_uniform_color([0.5,1 - c, (1 - c)/ 2])\n",
    "        if full_pcd == None:\n",
    "            full_pcd = pc\n",
    "        else:\n",
    "            full_pcd += pc\n",
    "\n",
    "downpcd = full_pcd.voxel_down_sample(voxel_size=0.01)\n",
    "geometries.append(downpcd)\n",
    "\n",
    "o3d.visualization.draw_geometries(geometries)"
   ]
  }
 ],
 "metadata": {
  "kernelspec": {
   "display_name": "Python 3",
   "language": "python",
   "name": "python3"
  },
  "language_info": {
   "codemirror_mode": {
    "name": "ipython",
    "version": 3
   },
   "file_extension": ".py",
   "mimetype": "text/x-python",
   "name": "python",
   "nbconvert_exporter": "python",
   "pygments_lexer": "ipython3",
   "version": "3.6.10"
  }
 },
 "nbformat": 4,
 "nbformat_minor": 4
}
